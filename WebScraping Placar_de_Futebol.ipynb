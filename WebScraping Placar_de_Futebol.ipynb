{
 "cells": [
  {
   "cell_type": "markdown",
   "id": "5b48df4a-eef1-4e6d-a484-cedc39d15362",
   "metadata": {},
   "source": [
    "# **Pegando os resultados das partidas que aconteceram no dia anterior**\n",
    "- https://www.placardefutebol.com.br/jogos-de-ontem"
   ]
  },
  {
   "cell_type": "markdown",
   "id": "6b95705f-9c6f-486b-a2f8-4b59d976c704",
   "metadata": {},
   "source": [
    "# Este código é uma adaptação de um código fornecido em uma das aulas do https://www.youtube.com/@OutspokenMarket"
   ]
  },
  {
   "cell_type": "markdown",
   "id": "75ea1045-9cf4-4aab-8d57-5f71167e9f05",
   "metadata": {},
   "source": [
    "## Bibliotecas"
   ]
  },
  {
   "cell_type": "code",
   "execution_count": 1,
   "id": "e3d29ba7-5f3f-44c6-add8-2818b8099315",
   "metadata": {},
   "outputs": [],
   "source": [
    "import pandas as pd\n",
    "import numpy as np \n",
    "from datetime import datetime, timedelta\n",
    "\n",
    "\n",
    "# webscraping\n",
    "from selenium import webdriver\n",
    "from selenium.webdriver.common.by import By\n",
    "from webdriver_manager.chrome import ChromeDriverManager\n",
    "from selenium.webdriver.chrome.service import Service\n",
    "from time import sleep\n",
    "\n",
    "\n",
    "# removing warnings\n",
    "import warnings\n",
    "warnings.simplefilter('ignore')"
   ]
  },
  {
   "cell_type": "markdown",
   "id": "b7c1abd2-2e56-406f-abe1-2a93605d88c7",
   "metadata": {},
   "source": [
    "## WebScraping da página : https://www.placardefutebol.com.br/jogos-de-ontem"
   ]
  },
  {
   "cell_type": "code",
   "execution_count": 2,
   "id": "e16d3a00-d49d-4a55-a8f8-502543867c64",
   "metadata": {},
   "outputs": [],
   "source": [
    "# Inicializa listas para armazenar os dados coletados\n",
    "data_casa = [] # nome do time da casa\n",
    "data_fora = [] # time visitante\n",
    "data_gols_casa = [] # gols do time da casa\n",
    "data_gols_fora = [] # gols do visitante\n",
    "data_do_jogo = [] # dia do jogo \n",
    "data_status_partida = [] # status da partida , 'encerrado', 'intervalo'\n",
    "\n",
    "\n",
    "option = webdriver.ChromeOptions()\n",
    "# Inicializando o navegador Chrome usando o Selenium\n",
    "driver = webdriver.Chrome(service=Service(ChromeDriverManager().install()),options=option)\n",
    "\n",
    "\n",
    "# Acessando o site \n",
    "driver.get(f'https://www.placardefutebol.com.br/jogos-de-ontem')\n",
    "\n",
    "# espera x segundos para carregar a pagina \n",
    "sleep(10)\n",
    "\n",
    "# maximiza a janela do navegador para garantir que a página foi totalmente carregada\n",
    "driver.maximize_window()\n",
    "\n",
    "# tenta fechar pop-up, caso apareca algum \n",
    "try:\n",
    "    driver.find_element(By.XPATH, \"//button[@id='onetrust-accept-btn-handler']\").click()\n",
    "\n",
    "except:\n",
    "    pass\n",
    "\n",
    "# espera mais x segundos para garantir que os elementos estão disponíveis\n",
    "sleep(3)\n",
    "\n",
    "\n",
    "# coletando os dados\n",
    "clubes_casa = driver.find_elements(By.CLASS_NAME, 'text-right')\n",
    "clubes_fora = driver.find_elements(By.CLASS_NAME, 'text-left')\n",
    "gols_casa = driver.find_elements(By.CLASS_NAME, 'justify-content-end')\n",
    "gols_fora = driver.find_elements(By.CLASS_NAME, 'justify-content-start')\n",
    "status_partida = driver.find_elements(By.CLASS_NAME, 'status-name')\n",
    "\n",
    "\n",
    "# data do jogo \n",
    "data_hoje = datetime.now()\n",
    "data_ontem = data_hoje - timedelta(days=1)\n",
    "# data de ontem formatada\n",
    "data_ontem_formatada = data_ontem.strftime(\"%Y-%m-%d\")\n",
    "\n",
    "\n",
    "# Organizando os dados \n",
    "for i in range(len(clubes_casa)):\n",
    "    home, away = clubes_casa, clubes_fora\n",
    "     # adiciona os dados coletados ás listas \n",
    "    data_casa.append(clubes_casa[i].text) # time casa\n",
    "    data_fora.append(clubes_fora[i].text) # time visitante\n",
    "    data_gols_casa.append(gols_casa[(i)].text) # gols tima da casa\n",
    "    data_gols_fora.append(gols_fora[(i)].text) # gols do time visitante\n",
    "    data_do_jogo.append(data_ontem_formatada)  # data do dia do jogo\n",
    "    data_status_partida.append(status_partida[i].text) # status da partida 'Encerrado', 'intervalo'\n",
    "\n",
    "# fechando o nevegador após coletar os dados\n",
    "driver.close()"
   ]
  },
  {
   "cell_type": "markdown",
   "id": "572f8c37-2cb4-45cf-850f-f3c376cf2dc0",
   "metadata": {},
   "source": [
    "## Arrumando os dados "
   ]
  },
  {
   "cell_type": "code",
   "execution_count": 3,
   "id": "e3c40ca1-15f8-4750-8b0d-aee5289bc8d3",
   "metadata": {},
   "outputs": [
    {
     "data": {
      "text/html": [
       "<div>\n",
       "<style scoped>\n",
       "    .dataframe tbody tr th:only-of-type {\n",
       "        vertical-align: middle;\n",
       "    }\n",
       "\n",
       "    .dataframe tbody tr th {\n",
       "        vertical-align: top;\n",
       "    }\n",
       "\n",
       "    .dataframe thead th {\n",
       "        text-align: right;\n",
       "    }\n",
       "</style>\n",
       "<table border=\"1\" class=\"dataframe\">\n",
       "  <thead>\n",
       "    <tr style=\"text-align: right;\">\n",
       "      <th></th>\n",
       "      <th>Home</th>\n",
       "      <th>Away</th>\n",
       "      <th>Gols_home</th>\n",
       "      <th>Gols_away</th>\n",
       "      <th>status</th>\n",
       "    </tr>\n",
       "    <tr>\n",
       "      <th>Data</th>\n",
       "      <th></th>\n",
       "      <th></th>\n",
       "      <th></th>\n",
       "      <th></th>\n",
       "      <th></th>\n",
       "    </tr>\n",
       "  </thead>\n",
       "  <tbody>\n",
       "    <tr>\n",
       "      <th>2024-10-06</th>\n",
       "      <td>Bayer Leverkusen Feminino</td>\n",
       "      <td>Carl Zeiss Jena Feminino</td>\n",
       "      <td>1</td>\n",
       "      <td>0</td>\n",
       "      <td>ENCERRADO</td>\n",
       "    </tr>\n",
       "    <tr>\n",
       "      <th>2024-10-06</th>\n",
       "      <td>Juventud</td>\n",
       "      <td>CA Atenas</td>\n",
       "      <td>1</td>\n",
       "      <td>0</td>\n",
       "      <td>54 MIN</td>\n",
       "    </tr>\n",
       "    <tr>\n",
       "      <th>2024-10-06</th>\n",
       "      <td>Hvidovre</td>\n",
       "      <td>Kolding IF</td>\n",
       "      <td>0</td>\n",
       "      <td>0</td>\n",
       "      <td>INTERVALO</td>\n",
       "    </tr>\n",
       "    <tr>\n",
       "      <th>2024-10-06</th>\n",
       "      <td>Sokol Saratov</td>\n",
       "      <td>Rotor Volgograd</td>\n",
       "      <td>0</td>\n",
       "      <td>1</td>\n",
       "      <td>56 MIN</td>\n",
       "    </tr>\n",
       "    <tr>\n",
       "      <th>2024-10-06</th>\n",
       "      <td>Sport</td>\n",
       "      <td>Ceará</td>\n",
       "      <td></td>\n",
       "      <td></td>\n",
       "      <td>HOJE 21:00</td>\n",
       "    </tr>\n",
       "  </tbody>\n",
       "</table>\n",
       "</div>"
      ],
      "text/plain": [
       "                                 Home                      Away Gols_home  \\\n",
       "Data                                                                        \n",
       "2024-10-06  Bayer Leverkusen Feminino  Carl Zeiss Jena Feminino         1   \n",
       "2024-10-06                   Juventud                 CA Atenas         1   \n",
       "2024-10-06                   Hvidovre                Kolding IF         0   \n",
       "2024-10-06              Sokol Saratov           Rotor Volgograd         0   \n",
       "2024-10-06                      Sport                     Ceará             \n",
       "\n",
       "           Gols_away      status  \n",
       "Data                              \n",
       "2024-10-06         0   ENCERRADO  \n",
       "2024-10-06         0      54 MIN  \n",
       "2024-10-06         0   INTERVALO  \n",
       "2024-10-06         1      56 MIN  \n",
       "2024-10-06            HOJE 21:00  "
      ]
     },
     "execution_count": 3,
     "metadata": {},
     "output_type": "execute_result"
    }
   ],
   "source": [
    "df = pd.DataFrame({\n",
    "    'Data': data_do_jogo,\n",
    "    'Home': data_casa,\n",
    "    'Away': data_fora,\n",
    "    'Gols_home': data_gols_casa,\n",
    "    'Gols_away': data_gols_fora,\n",
    "    'status': data_status_partida\n",
    "})\n",
    "\n",
    "\n",
    "# Arrumando o index\n",
    "df.set_index('Data', inplace = True)\n",
    "\n",
    "df.head()"
   ]
  },
  {
   "cell_type": "code",
   "execution_count": 4,
   "id": "111a5313-a5fd-45cf-a843-caade1b65403",
   "metadata": {},
   "outputs": [
    {
     "data": {
      "text/plain": [
       "status\n",
       "ENCERRADO     82\n",
       "54 MIN         1\n",
       "INTERVALO      1\n",
       "56 MIN         1\n",
       "HOJE 21:00     1\n",
       "SUSPENSO       1\n",
       "Name: count, dtype: int64"
      ]
     },
     "execution_count": 4,
     "metadata": {},
     "output_type": "execute_result"
    }
   ],
   "source": [
    "df['status'].value_counts()"
   ]
  },
  {
   "cell_type": "markdown",
   "id": "7a810e9f-fef5-4871-a0d1-2f128a57f4cb",
   "metadata": {},
   "source": [
    "## Pegando os jogos com o status 'ENCERRADO'"
   ]
  },
  {
   "cell_type": "code",
   "execution_count": 5,
   "id": "c0e867b0-d70e-4610-b057-e26540a301a9",
   "metadata": {},
   "outputs": [
    {
     "name": "stdout",
     "output_type": "stream",
     "text": [
      "(87, 5)\n",
      "(82, 5)\n"
     ]
    }
   ],
   "source": [
    "print(df.shape)\n",
    "\n",
    "df = df[df['status'] == 'ENCERRADO']\n",
    "\n",
    "print(df.shape)"
   ]
  },
  {
   "cell_type": "code",
   "execution_count": 6,
   "id": "9cfa843d-b43c-4b60-9c5e-ac260c28f68d",
   "metadata": {},
   "outputs": [
    {
     "data": {
      "text/html": [
       "<div>\n",
       "<style scoped>\n",
       "    .dataframe tbody tr th:only-of-type {\n",
       "        vertical-align: middle;\n",
       "    }\n",
       "\n",
       "    .dataframe tbody tr th {\n",
       "        vertical-align: top;\n",
       "    }\n",
       "\n",
       "    .dataframe thead th {\n",
       "        text-align: right;\n",
       "    }\n",
       "</style>\n",
       "<table border=\"1\" class=\"dataframe\">\n",
       "  <thead>\n",
       "    <tr style=\"text-align: right;\">\n",
       "      <th></th>\n",
       "      <th>Home</th>\n",
       "      <th>Away</th>\n",
       "      <th>Gols_home</th>\n",
       "      <th>Gols_away</th>\n",
       "      <th>status</th>\n",
       "    </tr>\n",
       "    <tr>\n",
       "      <th>Data</th>\n",
       "      <th></th>\n",
       "      <th></th>\n",
       "      <th></th>\n",
       "      <th></th>\n",
       "      <th></th>\n",
       "    </tr>\n",
       "  </thead>\n",
       "  <tbody>\n",
       "    <tr>\n",
       "      <th>2024-10-06</th>\n",
       "      <td>Bayer Leverkusen Feminino</td>\n",
       "      <td>Carl Zeiss Jena Feminino</td>\n",
       "      <td>1</td>\n",
       "      <td>0</td>\n",
       "      <td>ENCERRADO</td>\n",
       "    </tr>\n",
       "    <tr>\n",
       "      <th>2024-10-06</th>\n",
       "      <td>Corinthians Feminino</td>\n",
       "      <td>ADIFFEM Feminino</td>\n",
       "      <td>8</td>\n",
       "      <td>0</td>\n",
       "      <td>ENCERRADO</td>\n",
       "    </tr>\n",
       "    <tr>\n",
       "      <th>2024-10-06</th>\n",
       "      <td>Olimpia Feminino</td>\n",
       "      <td>Always Ready Feminino</td>\n",
       "      <td>3</td>\n",
       "      <td>0</td>\n",
       "      <td>ENCERRADO</td>\n",
       "    </tr>\n",
       "    <tr>\n",
       "      <th>2024-10-06</th>\n",
       "      <td>Boca Juniors Feminino</td>\n",
       "      <td>Libertad Limpeño Feminino</td>\n",
       "      <td>1</td>\n",
       "      <td>0</td>\n",
       "      <td>ENCERRADO</td>\n",
       "    </tr>\n",
       "    <tr>\n",
       "      <th>2024-10-06</th>\n",
       "      <td>Colo-Colo Feminino</td>\n",
       "      <td>Santos Feminino</td>\n",
       "      <td>0</td>\n",
       "      <td>1</td>\n",
       "      <td>ENCERRADO</td>\n",
       "    </tr>\n",
       "  </tbody>\n",
       "</table>\n",
       "</div>"
      ],
      "text/plain": [
       "                                 Home                       Away Gols_home  \\\n",
       "Data                                                                         \n",
       "2024-10-06  Bayer Leverkusen Feminino   Carl Zeiss Jena Feminino         1   \n",
       "2024-10-06       Corinthians Feminino           ADIFFEM Feminino         8   \n",
       "2024-10-06           Olimpia Feminino      Always Ready Feminino         3   \n",
       "2024-10-06      Boca Juniors Feminino  Libertad Limpeño Feminino         1   \n",
       "2024-10-06         Colo-Colo Feminino            Santos Feminino         0   \n",
       "\n",
       "           Gols_away     status  \n",
       "Data                             \n",
       "2024-10-06         0  ENCERRADO  \n",
       "2024-10-06         0  ENCERRADO  \n",
       "2024-10-06         0  ENCERRADO  \n",
       "2024-10-06         0  ENCERRADO  \n",
       "2024-10-06         1  ENCERRADO  "
      ]
     },
     "execution_count": 6,
     "metadata": {},
     "output_type": "execute_result"
    }
   ],
   "source": [
    "df.head()"
   ]
  }
 ],
 "metadata": {
  "kernelspec": {
   "display_name": "Python 3 (ipykernel)",
   "language": "python",
   "name": "python3"
  },
  "language_info": {
   "codemirror_mode": {
    "name": "ipython",
    "version": 3
   },
   "file_extension": ".py",
   "mimetype": "text/x-python",
   "name": "python",
   "nbconvert_exporter": "python",
   "pygments_lexer": "ipython3",
   "version": "3.12.4"
  }
 },
 "nbformat": 4,
 "nbformat_minor": 5
}
