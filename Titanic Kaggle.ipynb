{
 "cells": [
  {
   "cell_type": "markdown",
   "id": "590beb47-638e-4dd9-9cf0-6748278eb18f",
   "metadata": {},
   "source": [
    "## about the dataset:\n",
    "https://www.kaggle.com/competitions/titanic/data"
   ]
  },
  {
   "cell_type": "code",
   "execution_count": 1,
   "id": "ab7af783-9c3a-4bb6-92ed-c4e7471ac954",
   "metadata": {},
   "outputs": [],
   "source": [
    "import pandas as pd\n",
    "import numpy as np\n",
    "from sklearn.preprocessing import LabelEncoder\n",
    "from sklearn.metrics import roc_curve , auc\n",
    "from sklearn.metrics import confusion_matrix\n",
    "from sklearn.model_selection import train_test_split\n",
    "import statsmodels.api as sm\n",
    "import matplotlib.pyplot as plt \n",
    "from sklearn.ensemble import RandomForestRegressor\n",
    "from sklearn.ensemble import RandomForestClassifier\n",
    "import sklearn.metrics as metrics\n",
    "from math import sqrt\n",
    "\n",
    "%matplotlib inline\n",
    "import warnings\n",
    "warnings.filterwarnings(\"ignore\")"
   ]
  },
  {
   "cell_type": "code",
   "execution_count": 2,
   "id": "be335a10-7117-40ff-91c8-9df07c8b010a",
   "metadata": {},
   "outputs": [
    {
     "data": {
      "text/plain": [
       "'/home/marcos_well/Área de Trabalho/Projetos_Python/data science/kaggle'"
      ]
     },
     "execution_count": 2,
     "metadata": {},
     "output_type": "execute_result"
    }
   ],
   "source": [
    "import os \n",
    "\n",
    "os.getcwd()"
   ]
  },
  {
   "cell_type": "code",
   "execution_count": 3,
   "id": "3d722bac-75f6-4cba-a01c-e41014b87def",
   "metadata": {},
   "outputs": [],
   "source": [
    "os.chdir('/home/marcos_well/Área de Trabalho/Projetos_Python/data science/data/titanic')"
   ]
  },
  {
   "cell_type": "code",
   "execution_count": 4,
   "id": "02d02bd0-5998-4da7-8cd6-4fa130e00299",
   "metadata": {},
   "outputs": [],
   "source": [
    "df = pd.read_csv('train.csv')"
   ]
  },
  {
   "cell_type": "code",
   "execution_count": 5,
   "id": "401128ca-ded0-458b-b31c-459046eba31a",
   "metadata": {},
   "outputs": [
    {
     "data": {
      "text/html": [
       "<div>\n",
       "<style scoped>\n",
       "    .dataframe tbody tr th:only-of-type {\n",
       "        vertical-align: middle;\n",
       "    }\n",
       "\n",
       "    .dataframe tbody tr th {\n",
       "        vertical-align: top;\n",
       "    }\n",
       "\n",
       "    .dataframe thead th {\n",
       "        text-align: right;\n",
       "    }\n",
       "</style>\n",
       "<table border=\"1\" class=\"dataframe\">\n",
       "  <thead>\n",
       "    <tr style=\"text-align: right;\">\n",
       "      <th></th>\n",
       "      <th>PassengerId</th>\n",
       "      <th>Survived</th>\n",
       "      <th>Pclass</th>\n",
       "      <th>Name</th>\n",
       "      <th>Sex</th>\n",
       "      <th>Age</th>\n",
       "      <th>SibSp</th>\n",
       "      <th>Parch</th>\n",
       "      <th>Ticket</th>\n",
       "      <th>Fare</th>\n",
       "      <th>Cabin</th>\n",
       "      <th>Embarked</th>\n",
       "    </tr>\n",
       "  </thead>\n",
       "  <tbody>\n",
       "    <tr>\n",
       "      <th>0</th>\n",
       "      <td>1</td>\n",
       "      <td>0</td>\n",
       "      <td>3</td>\n",
       "      <td>Braund, Mr. Owen Harris</td>\n",
       "      <td>male</td>\n",
       "      <td>22.0</td>\n",
       "      <td>1</td>\n",
       "      <td>0</td>\n",
       "      <td>A/5 21171</td>\n",
       "      <td>7.2500</td>\n",
       "      <td>NaN</td>\n",
       "      <td>S</td>\n",
       "    </tr>\n",
       "    <tr>\n",
       "      <th>1</th>\n",
       "      <td>2</td>\n",
       "      <td>1</td>\n",
       "      <td>1</td>\n",
       "      <td>Cumings, Mrs. John Bradley (Florence Briggs Th...</td>\n",
       "      <td>female</td>\n",
       "      <td>38.0</td>\n",
       "      <td>1</td>\n",
       "      <td>0</td>\n",
       "      <td>PC 17599</td>\n",
       "      <td>71.2833</td>\n",
       "      <td>C85</td>\n",
       "      <td>C</td>\n",
       "    </tr>\n",
       "    <tr>\n",
       "      <th>2</th>\n",
       "      <td>3</td>\n",
       "      <td>1</td>\n",
       "      <td>3</td>\n",
       "      <td>Heikkinen, Miss. Laina</td>\n",
       "      <td>female</td>\n",
       "      <td>26.0</td>\n",
       "      <td>0</td>\n",
       "      <td>0</td>\n",
       "      <td>STON/O2. 3101282</td>\n",
       "      <td>7.9250</td>\n",
       "      <td>NaN</td>\n",
       "      <td>S</td>\n",
       "    </tr>\n",
       "    <tr>\n",
       "      <th>3</th>\n",
       "      <td>4</td>\n",
       "      <td>1</td>\n",
       "      <td>1</td>\n",
       "      <td>Futrelle, Mrs. Jacques Heath (Lily May Peel)</td>\n",
       "      <td>female</td>\n",
       "      <td>35.0</td>\n",
       "      <td>1</td>\n",
       "      <td>0</td>\n",
       "      <td>113803</td>\n",
       "      <td>53.1000</td>\n",
       "      <td>C123</td>\n",
       "      <td>S</td>\n",
       "    </tr>\n",
       "    <tr>\n",
       "      <th>4</th>\n",
       "      <td>5</td>\n",
       "      <td>0</td>\n",
       "      <td>3</td>\n",
       "      <td>Allen, Mr. William Henry</td>\n",
       "      <td>male</td>\n",
       "      <td>35.0</td>\n",
       "      <td>0</td>\n",
       "      <td>0</td>\n",
       "      <td>373450</td>\n",
       "      <td>8.0500</td>\n",
       "      <td>NaN</td>\n",
       "      <td>S</td>\n",
       "    </tr>\n",
       "  </tbody>\n",
       "</table>\n",
       "</div>"
      ],
      "text/plain": [
       "   PassengerId  Survived  Pclass  \\\n",
       "0            1         0       3   \n",
       "1            2         1       1   \n",
       "2            3         1       3   \n",
       "3            4         1       1   \n",
       "4            5         0       3   \n",
       "\n",
       "                                                Name     Sex   Age  SibSp  \\\n",
       "0                            Braund, Mr. Owen Harris    male  22.0      1   \n",
       "1  Cumings, Mrs. John Bradley (Florence Briggs Th...  female  38.0      1   \n",
       "2                             Heikkinen, Miss. Laina  female  26.0      0   \n",
       "3       Futrelle, Mrs. Jacques Heath (Lily May Peel)  female  35.0      1   \n",
       "4                           Allen, Mr. William Henry    male  35.0      0   \n",
       "\n",
       "   Parch            Ticket     Fare Cabin Embarked  \n",
       "0      0         A/5 21171   7.2500   NaN        S  \n",
       "1      0          PC 17599  71.2833   C85        C  \n",
       "2      0  STON/O2. 3101282   7.9250   NaN        S  \n",
       "3      0            113803  53.1000  C123        S  \n",
       "4      0            373450   8.0500   NaN        S  "
      ]
     },
     "execution_count": 5,
     "metadata": {},
     "output_type": "execute_result"
    }
   ],
   "source": [
    "df.head()"
   ]
  },
  {
   "cell_type": "code",
   "execution_count": 6,
   "id": "10eaebc2-a400-459c-a806-f7b744e24e35",
   "metadata": {},
   "outputs": [
    {
     "name": "stdout",
     "output_type": "stream",
     "text": [
      "<class 'pandas.core.frame.DataFrame'>\n",
      "RangeIndex: 891 entries, 0 to 890\n",
      "Data columns (total 12 columns):\n",
      " #   Column       Non-Null Count  Dtype  \n",
      "---  ------       --------------  -----  \n",
      " 0   PassengerId  891 non-null    int64  \n",
      " 1   Survived     891 non-null    int64  \n",
      " 2   Pclass       891 non-null    int64  \n",
      " 3   Name         891 non-null    object \n",
      " 4   Sex          891 non-null    object \n",
      " 5   Age          714 non-null    float64\n",
      " 6   SibSp        891 non-null    int64  \n",
      " 7   Parch        891 non-null    int64  \n",
      " 8   Ticket       891 non-null    object \n",
      " 9   Fare         891 non-null    float64\n",
      " 10  Cabin        204 non-null    object \n",
      " 11  Embarked     889 non-null    object \n",
      "dtypes: float64(2), int64(5), object(5)\n",
      "memory usage: 83.7+ KB\n"
     ]
    }
   ],
   "source": [
    "df.info()"
   ]
  },
  {
   "cell_type": "code",
   "execution_count": 7,
   "id": "f32e5b2c-128b-4cda-a49f-1b89925c717a",
   "metadata": {},
   "outputs": [],
   "source": [
    "# Excluindo a coluna 'Name','PassengerId' pois não será importante \n",
    "df.drop(['Name', 'PassengerId'], axis = 1 , inplace = True)"
   ]
  },
  {
   "cell_type": "code",
   "execution_count": 8,
   "id": "4faaa0ee-378a-4578-a0f8-73e8b2909264",
   "metadata": {},
   "outputs": [],
   "source": [
    "df_filtrado = df"
   ]
  },
  {
   "cell_type": "markdown",
   "id": "2f460adc-2435-4f90-b9b2-f510662af4ea",
   "metadata": {},
   "source": [
    "# Tratamento e analise dos dados  "
   ]
  },
  {
   "cell_type": "code",
   "execution_count": 9,
   "id": "f70c934c-95a8-4c65-a3d7-66bfba684517",
   "metadata": {},
   "outputs": [
    {
     "name": "stdout",
     "output_type": "stream",
     "text": [
      "Survived      0\n",
      "Pclass        0\n",
      "Sex           0\n",
      "Age         177\n",
      "SibSp         0\n",
      "Parch         0\n",
      "Ticket        0\n",
      "Fare          0\n",
      "Cabin       687\n",
      "Embarked      2\n",
      "dtype: int64\n"
     ]
    }
   ],
   "source": [
    "# Verificando os valores faltantes\n",
    "\n",
    "print(df_filtrado.isna().sum())"
   ]
  },
  {
   "cell_type": "code",
   "execution_count": 10,
   "id": "8114a149-44f7-4c46-89f9-d239b0901a53",
   "metadata": {},
   "outputs": [],
   "source": [
    "# Como possui muitos valores faltantes não podemos simplesmente excluir as linhas\n",
    "# Preenchendo com o valor posterior\n",
    "df_filtrado.fillna(method = 'bfill', inplace = True)\n"
   ]
  },
  {
   "cell_type": "code",
   "execution_count": 11,
   "id": "69ad08a6-5f8a-4755-8e1a-7c6c5a176c37",
   "metadata": {},
   "outputs": [
    {
     "name": "stdout",
     "output_type": "stream",
     "text": [
      "Survived    0\n",
      "Pclass      0\n",
      "Sex         0\n",
      "Age         0\n",
      "SibSp       0\n",
      "Parch       0\n",
      "Ticket      0\n",
      "Fare        0\n",
      "Cabin       1\n",
      "Embarked    0\n",
      "dtype: int64\n"
     ]
    }
   ],
   "source": [
    "# Verificando os valores faltantes\n",
    "\n",
    "print(df_filtrado.isna().sum())"
   ]
  },
  {
   "cell_type": "code",
   "execution_count": 12,
   "id": "d73aed53-7c51-4e43-99d8-391b4cff34be",
   "metadata": {
    "tags": []
   },
   "outputs": [],
   "source": [
    "# converting float to int\n",
    "df_filtrado['Age'] = df_filtrado['Age'].astype(int)"
   ]
  },
  {
   "cell_type": "code",
   "execution_count": 13,
   "id": "69526b7e-bb9e-4fab-9f3b-fe56ab225879",
   "metadata": {},
   "outputs": [],
   "source": [
    "# converting float to int\n",
    "df_filtrado['Fare'] = df_filtrado['Fare'].astype(int)"
   ]
  },
  {
   "cell_type": "code",
   "execution_count": 14,
   "id": "8cbb259c-e788-49bf-b0c0-664cba5b84dd",
   "metadata": {},
   "outputs": [
    {
     "data": {
      "text/plain": [
       "0    61.616162\n",
       "1    38.383838\n",
       "Name: Survived, dtype: float64"
      ]
     },
     "execution_count": 14,
     "metadata": {},
     "output_type": "execute_result"
    }
   ],
   "source": [
    "# Porcentagem de sobreviventes 1 \n",
    "df_filtrado['Survived'].value_counts(normalize = True)*100"
   ]
  },
  {
   "cell_type": "code",
   "execution_count": 15,
   "id": "2ea0b55d-7fef-4e43-ab75-dad1d05d05c0",
   "metadata": {},
   "outputs": [
    {
     "data": {
      "image/png": "[encoded data removed]",
      "text/plain": [
       "<Figure size 2500x1500 with 6 Axes>"
      ]
     },
     "metadata": {},
     "output_type": "display_data"
    }
   ],
   "source": [
    "# plotando um histrograma das variaveis \n",
    "\n",
    "df_filtrado.hist()\n",
    "\n",
    "plt.gcf().set_size_inches(25,15)"
   ]
  },
  {
   "cell_type": "code",
   "execution_count": 16,
   "id": "38a4081a-bb50-400b-9c0d-21d9132102d8",
   "metadata": {},
   "outputs": [
    {
     "data": {
      "text/plain": [
       "S    0.723906\n",
       "C    0.189675\n",
       "Q    0.086420\n",
       "Name: Embarked, dtype: float64"
      ]
     },
     "execution_count": 16,
     "metadata": {},
     "output_type": "execute_result"
    }
   ],
   "source": [
    "# analisando a proporção dos alvos categoricos\n",
    "df_filtrado['Embarked'].value_counts(normalize = True)"
   ]
  },
  {
   "cell_type": "code",
   "execution_count": 17,
   "id": "b1a14f80-c4bc-48bd-b7ad-14c005fef96c",
   "metadata": {},
   "outputs": [
    {
     "data": {
      "text/plain": [
       "male      0.647587\n",
       "female    0.352413\n",
       "Name: Sex, dtype: float64"
      ]
     },
     "execution_count": 17,
     "metadata": {},
     "output_type": "execute_result"
    }
   ],
   "source": [
    "# analisando a proporção dos alvos categoricos\n",
    "df_filtrado['Sex'].value_counts(normalize = True)"
   ]
  },
  {
   "cell_type": "code",
   "execution_count": 18,
   "id": "0d527d47-43d8-4a25-8ffb-f5c6082c5acc",
   "metadata": {},
   "outputs": [
    {
     "data": {
      "text/plain": [
       "3    491\n",
       "1    216\n",
       "2    184\n",
       "Name: Pclass, dtype: int64"
      ]
     },
     "execution_count": 18,
     "metadata": {},
     "output_type": "execute_result"
    }
   ],
   "source": [
    "# analisando a proporção dos alvos categoricos\n",
    "df_filtrado['Pclass'].value_counts()"
   ]
  },
  {
   "cell_type": "code",
   "execution_count": 19,
   "id": "d4675cf0-5d89-4a94-8483-504983ce7bf5",
   "metadata": {},
   "outputs": [
    {
     "data": {
      "text/html": [
       "<div>\n",
       "<style scoped>\n",
       "    .dataframe tbody tr th:only-of-type {\n",
       "        vertical-align: middle;\n",
       "    }\n",
       "\n",
       "    .dataframe tbody tr th {\n",
       "        vertical-align: top;\n",
       "    }\n",
       "\n",
       "    .dataframe thead th {\n",
       "        text-align: right;\n",
       "    }\n",
       "</style>\n",
       "<table border=\"1\" class=\"dataframe\">\n",
       "  <thead>\n",
       "    <tr style=\"text-align: right;\">\n",
       "      <th>Survived</th>\n",
       "      <th>0.000000</th>\n",
       "      <th>0.112233</th>\n",
       "    </tr>\n",
       "    <tr>\n",
       "      <th>Pclass</th>\n",
       "      <th></th>\n",
       "      <th></th>\n",
       "    </tr>\n",
       "  </thead>\n",
       "  <tbody>\n",
       "    <tr>\n",
       "      <th>1</th>\n",
       "      <td>80</td>\n",
       "      <td>136</td>\n",
       "    </tr>\n",
       "    <tr>\n",
       "      <th>2</th>\n",
       "      <td>97</td>\n",
       "      <td>87</td>\n",
       "    </tr>\n",
       "    <tr>\n",
       "      <th>3</th>\n",
       "      <td>372</td>\n",
       "      <td>119</td>\n",
       "    </tr>\n",
       "  </tbody>\n",
       "</table>\n",
       "</div>"
      ],
      "text/plain": [
       "Survived  0.000000  0.112233\n",
       "Pclass                      \n",
       "1               80       136\n",
       "2               97        87\n",
       "3              372       119"
      ]
     },
     "execution_count": 19,
     "metadata": {},
     "output_type": "execute_result"
    }
   ],
   "source": [
    "# analisando a relação entre duas variaveis\n",
    "# Pclass influenciou ?\n",
    "pd.crosstab((df_filtrado['Pclass'] ), df_filtrado['Survived']/df_filtrado.shape[0]*100)"
   ]
  },
  {
   "cell_type": "code",
   "execution_count": 20,
   "id": "a0d4fc83-81a8-4956-81cf-ec62cf76e787",
   "metadata": {},
   "outputs": [
    {
     "data": {
      "text/html": [
       "<div>\n",
       "<style scoped>\n",
       "    .dataframe tbody tr th:only-of-type {\n",
       "        vertical-align: middle;\n",
       "    }\n",
       "\n",
       "    .dataframe tbody tr th {\n",
       "        vertical-align: top;\n",
       "    }\n",
       "\n",
       "    .dataframe thead th {\n",
       "        text-align: right;\n",
       "    }\n",
       "</style>\n",
       "<table border=\"1\" class=\"dataframe\">\n",
       "  <thead>\n",
       "    <tr style=\"text-align: right;\">\n",
       "      <th>Survived</th>\n",
       "      <th>0.000000</th>\n",
       "      <th>0.112233</th>\n",
       "    </tr>\n",
       "    <tr>\n",
       "      <th>SibSp</th>\n",
       "      <th></th>\n",
       "      <th></th>\n",
       "    </tr>\n",
       "  </thead>\n",
       "  <tbody>\n",
       "    <tr>\n",
       "      <th>0</th>\n",
       "      <td>398</td>\n",
       "      <td>210</td>\n",
       "    </tr>\n",
       "    <tr>\n",
       "      <th>1</th>\n",
       "      <td>97</td>\n",
       "      <td>112</td>\n",
       "    </tr>\n",
       "    <tr>\n",
       "      <th>2</th>\n",
       "      <td>15</td>\n",
       "      <td>13</td>\n",
       "    </tr>\n",
       "    <tr>\n",
       "      <th>3</th>\n",
       "      <td>12</td>\n",
       "      <td>4</td>\n",
       "    </tr>\n",
       "    <tr>\n",
       "      <th>4</th>\n",
       "      <td>15</td>\n",
       "      <td>3</td>\n",
       "    </tr>\n",
       "    <tr>\n",
       "      <th>5</th>\n",
       "      <td>5</td>\n",
       "      <td>0</td>\n",
       "    </tr>\n",
       "    <tr>\n",
       "      <th>8</th>\n",
       "      <td>7</td>\n",
       "      <td>0</td>\n",
       "    </tr>\n",
       "  </tbody>\n",
       "</table>\n",
       "</div>"
      ],
      "text/plain": [
       "Survived  0.000000  0.112233\n",
       "SibSp                       \n",
       "0              398       210\n",
       "1               97       112\n",
       "2               15        13\n",
       "3               12         4\n",
       "4               15         3\n",
       "5                5         0\n",
       "8                7         0"
      ]
     },
     "execution_count": 20,
     "metadata": {},
     "output_type": "execute_result"
    }
   ],
   "source": [
    "# analisando a relação entre duas variaveis\n",
    "# Quem foi sozinho teria mais chances de ficar vivo do que os com mais acompanhantes ?\n",
    "pd.crosstab((df_filtrado['SibSp'] ), df_filtrado['Survived']/df_filtrado.shape[0]*100)"
   ]
  },
  {
   "cell_type": "code",
   "execution_count": 21,
   "id": "bb1f976b-939b-487b-ac94-e43cd470f5fb",
   "metadata": {},
   "outputs": [],
   "source": [
    "# transformando 'Sex' em numerico \n",
    "\n",
    "# male = 1\n",
    "# famale = 0\n",
    "\n",
    "df_filtrado['Sex'] = np.where(df_filtrado['Sex'] == 'male' , 1, 0)"
   ]
  },
  {
   "cell_type": "code",
   "execution_count": 22,
   "id": "bef01724-5d7a-4fcc-84c8-ae998f860cc0",
   "metadata": {},
   "outputs": [
    {
     "data": {
      "text/plain": [
       "1    0.647587\n",
       "0    0.352413\n",
       "Name: Sex, dtype: float64"
      ]
     },
     "execution_count": 22,
     "metadata": {},
     "output_type": "execute_result"
    }
   ],
   "source": [
    "# analisando a proporção dos alvos categoricos\n",
    "df_filtrado['Sex'].value_counts(normalize = True)"
   ]
  },
  {
   "cell_type": "markdown",
   "id": "948125db-6d90-4c36-8bf4-0afb7f0afe98",
   "metadata": {},
   "source": [
    "## Criando novas variaveis "
   ]
  },
  {
   "cell_type": "code",
   "execution_count": 23,
   "id": "2ee6dc92-ff96-4b64-a8ea-6b7e87f66621",
   "metadata": {},
   "outputs": [],
   "source": [
    "# Fare std\n",
    "df_filtrado['Fare_std'] =  df_filtrado['Fare'].std() / (df_filtrado['Fare'] -1)\n",
    "\n",
    "# SibSp / Age\n",
    "df_filtrado['S_Age'] = df_filtrado['SibSp'] / df_filtrado['Age']\n",
    "\n",
    "# family  - 'Sibsp' + 'Parch'\n",
    "df_filtrado['family'] = df_filtrado['SibSp'] + df_filtrado['Parch']\n",
    "\n",
    "# mediam money  - 'family'/'Fare'\n",
    "df_filtrado['m_money'] = df_filtrado['family'] / df_filtrado['Fare']"
   ]
  },
  {
   "cell_type": "code",
   "execution_count": 24,
   "id": "926b3eb6-7df7-4bac-8015-2887e006dd08",
   "metadata": {},
   "outputs": [],
   "source": [
    "# Replacing infinite with nan\n",
    "df_filtrado.replace([np.inf, -np.inf], np.nan, inplace=True)"
   ]
  },
  {
   "cell_type": "markdown",
   "id": "19152b56-8790-4d78-bd3b-a0fb063653e4",
   "metadata": {},
   "source": [
    "## Repartindo variaveis contantes em intervalos "
   ]
  },
  {
   "cell_type": "code",
   "execution_count": 25,
   "id": "7531b0f4-4904-40e3-bd84-8de8e86333de",
   "metadata": {},
   "outputs": [],
   "source": [
    "# Separando 'Age' em intervalos \n",
    "age_int = list(range(df_filtrado.Age.min()+5, df_filtrado.Age.max()+5, 5)) # repartindo de 5 em 5\n",
    "\n",
    "# criando o nome dos intervalos\n",
    "nome_int = [f'age_i{i}' for i in range(len(age_int)-1)]\n",
    "\n",
    "# atribuindo ao dataframe\n",
    "df_filtrado['age_int'] = pd.cut(df_filtrado.Age, age_int, labels = nome_int, include_lowest = True)\n",
    "\n",
    "##############################################################################\n",
    "# Separando 'Fare' em intervalos \n",
    "fare_int = list(range(df_filtrado.Fare.min(), df_filtrado.Fare.max()+10000, 10)) # repartindo de 10 em 10\n",
    "\n",
    "# criando o nome dos intervalos\n",
    "nome_int2 = [f'age_i{i}' for i in range(len(fare_int)-1)]\n",
    "\n",
    "# atribuindo ao dataframe\n",
    "df_filtrado['fare_int'] = pd.cut(df_filtrado.Fare, fare_int, labels = nome_int2, include_lowest = True)\n"
   ]
  },
  {
   "cell_type": "code",
   "execution_count": 26,
   "id": "8c7e02b0-6288-4c17-bb33-60ee87731492",
   "metadata": {},
   "outputs": [],
   "source": [
    "#convertendo dtype de category em numerico \n",
    "categorias = {'age_int': { 'age_i0': 0, 'age_i1': 1, 'age_i2': 2, 'age_i4': 4, 'age_i3': 3\n",
    "                          ,'age_i5': 5, 'age_i6': 6, 'age_i7': 7, 'age_i8': 8, 'age_i9': 9, 'age_i10': 10, 'age_i11': 11\n",
    "                          ,'age_i12': 12, 'age_i13': 13, 'age_i14': 14, 'age_i15': 15, 'age_i16': 16, 'age_i17': 17}}\n",
    "df_filtrado.replace(categorias, inplace = True)\n",
    "\n",
    "#################################################\n",
    "# convertendo dtype de category para int\n",
    "categorias2 = {'fare_int': {'fare_i0': 0, 'fare_i1': 1, 'fare_i2': 2, 'fare_i4': 4, 'fare_i3': 3, 'fare_i5': 5,'fare_i6': 6, 'fare_i7': 7, 'fare_i8': 8, 'fare_i9': 9, 'fare_i10': 10}}\n",
    "df_filtrado.replace(categorias2, inplace = True)"
   ]
  },
  {
   "cell_type": "code",
   "execution_count": 27,
   "id": "d41b32ec-d3d3-4007-b450-f501b6df0539",
   "metadata": {},
   "outputs": [],
   "source": [
    "#transformando em object\n",
    "df_filtrado['age_int'] = np.array(df_filtrado['age_int'],dtype='object')\n",
    "df_filtrado['fare_int'] = np.array(df_filtrado['fare_int'],dtype='object')"
   ]
  },
  {
   "cell_type": "code",
   "execution_count": 28,
   "id": "0d18ff77-3c04-405d-affd-b2e084addd91",
   "metadata": {},
   "outputs": [
    {
     "data": {
      "text/html": [
       "<div>\n",
       "<style scoped>\n",
       "    .dataframe tbody tr th:only-of-type {\n",
       "        vertical-align: middle;\n",
       "    }\n",
       "\n",
       "    .dataframe tbody tr th {\n",
       "        vertical-align: top;\n",
       "    }\n",
       "\n",
       "    .dataframe thead th {\n",
       "        text-align: right;\n",
       "    }\n",
       "</style>\n",
       "<table border=\"1\" class=\"dataframe\">\n",
       "  <thead>\n",
       "    <tr style=\"text-align: right;\">\n",
       "      <th></th>\n",
       "      <th>Survived</th>\n",
       "      <th>Pclass</th>\n",
       "      <th>Sex</th>\n",
       "      <th>SibSp</th>\n",
       "      <th>Parch</th>\n",
       "      <th>Ticket</th>\n",
       "      <th>Cabin</th>\n",
       "      <th>Embarked</th>\n",
       "      <th>Fare_std</th>\n",
       "      <th>S_Age</th>\n",
       "      <th>family</th>\n",
       "      <th>m_money</th>\n",
       "      <th>age_int</th>\n",
       "      <th>fare_int</th>\n",
       "    </tr>\n",
       "  </thead>\n",
       "  <tbody>\n",
       "    <tr>\n",
       "      <th>0</th>\n",
       "      <td>0</td>\n",
       "      <td>3</td>\n",
       "      <td>1</td>\n",
       "      <td>1</td>\n",
       "      <td>0</td>\n",
       "      <td>A/5 21171</td>\n",
       "      <td>C85</td>\n",
       "      <td>S</td>\n",
       "      <td>8.283955</td>\n",
       "      <td>0.045455</td>\n",
       "      <td>1</td>\n",
       "      <td>0.142857</td>\n",
       "      <td>3.0</td>\n",
       "      <td>age_i0</td>\n",
       "    </tr>\n",
       "    <tr>\n",
       "      <th>1</th>\n",
       "      <td>1</td>\n",
       "      <td>1</td>\n",
       "      <td>0</td>\n",
       "      <td>1</td>\n",
       "      <td>0</td>\n",
       "      <td>PC 17599</td>\n",
       "      <td>C85</td>\n",
       "      <td>C</td>\n",
       "      <td>0.710053</td>\n",
       "      <td>0.026316</td>\n",
       "      <td>1</td>\n",
       "      <td>0.014085</td>\n",
       "      <td>6.0</td>\n",
       "      <td>age_i7</td>\n",
       "    </tr>\n",
       "    <tr>\n",
       "      <th>2</th>\n",
       "      <td>1</td>\n",
       "      <td>3</td>\n",
       "      <td>0</td>\n",
       "      <td>0</td>\n",
       "      <td>0</td>\n",
       "      <td>STON/O2. 3101282</td>\n",
       "      <td>C123</td>\n",
       "      <td>S</td>\n",
       "      <td>8.283955</td>\n",
       "      <td>0.000000</td>\n",
       "      <td>0</td>\n",
       "      <td>0.000000</td>\n",
       "      <td>4.0</td>\n",
       "      <td>age_i0</td>\n",
       "    </tr>\n",
       "    <tr>\n",
       "      <th>3</th>\n",
       "      <td>1</td>\n",
       "      <td>1</td>\n",
       "      <td>0</td>\n",
       "      <td>1</td>\n",
       "      <td>0</td>\n",
       "      <td>113803</td>\n",
       "      <td>C123</td>\n",
       "      <td>S</td>\n",
       "      <td>0.955841</td>\n",
       "      <td>0.028571</td>\n",
       "      <td>1</td>\n",
       "      <td>0.018868</td>\n",
       "      <td>5.0</td>\n",
       "      <td>age_i5</td>\n",
       "    </tr>\n",
       "    <tr>\n",
       "      <th>4</th>\n",
       "      <td>0</td>\n",
       "      <td>3</td>\n",
       "      <td>1</td>\n",
       "      <td>0</td>\n",
       "      <td>0</td>\n",
       "      <td>373450</td>\n",
       "      <td>E46</td>\n",
       "      <td>S</td>\n",
       "      <td>7.100533</td>\n",
       "      <td>0.000000</td>\n",
       "      <td>0</td>\n",
       "      <td>0.000000</td>\n",
       "      <td>5.0</td>\n",
       "      <td>age_i0</td>\n",
       "    </tr>\n",
       "    <tr>\n",
       "      <th>...</th>\n",
       "      <td>...</td>\n",
       "      <td>...</td>\n",
       "      <td>...</td>\n",
       "      <td>...</td>\n",
       "      <td>...</td>\n",
       "      <td>...</td>\n",
       "      <td>...</td>\n",
       "      <td>...</td>\n",
       "      <td>...</td>\n",
       "      <td>...</td>\n",
       "      <td>...</td>\n",
       "      <td>...</td>\n",
       "      <td>...</td>\n",
       "      <td>...</td>\n",
       "    </tr>\n",
       "    <tr>\n",
       "      <th>886</th>\n",
       "      <td>0</td>\n",
       "      <td>2</td>\n",
       "      <td>1</td>\n",
       "      <td>0</td>\n",
       "      <td>0</td>\n",
       "      <td>211536</td>\n",
       "      <td>B42</td>\n",
       "      <td>S</td>\n",
       "      <td>4.141977</td>\n",
       "      <td>0.000000</td>\n",
       "      <td>0</td>\n",
       "      <td>0.000000</td>\n",
       "      <td>4.0</td>\n",
       "      <td>age_i1</td>\n",
       "    </tr>\n",
       "    <tr>\n",
       "      <th>887</th>\n",
       "      <td>1</td>\n",
       "      <td>1</td>\n",
       "      <td>0</td>\n",
       "      <td>0</td>\n",
       "      <td>0</td>\n",
       "      <td>112053</td>\n",
       "      <td>B42</td>\n",
       "      <td>S</td>\n",
       "      <td>1.713922</td>\n",
       "      <td>0.000000</td>\n",
       "      <td>0</td>\n",
       "      <td>0.000000</td>\n",
       "      <td>2.0</td>\n",
       "      <td>age_i2</td>\n",
       "    </tr>\n",
       "    <tr>\n",
       "      <th>888</th>\n",
       "      <td>0</td>\n",
       "      <td>3</td>\n",
       "      <td>0</td>\n",
       "      <td>1</td>\n",
       "      <td>2</td>\n",
       "      <td>W./C. 6607</td>\n",
       "      <td>C148</td>\n",
       "      <td>S</td>\n",
       "      <td>2.259260</td>\n",
       "      <td>0.038462</td>\n",
       "      <td>3</td>\n",
       "      <td>0.130435</td>\n",
       "      <td>4.0</td>\n",
       "      <td>age_i2</td>\n",
       "    </tr>\n",
       "    <tr>\n",
       "      <th>889</th>\n",
       "      <td>1</td>\n",
       "      <td>1</td>\n",
       "      <td>1</td>\n",
       "      <td>0</td>\n",
       "      <td>0</td>\n",
       "      <td>111369</td>\n",
       "      <td>C148</td>\n",
       "      <td>C</td>\n",
       "      <td>1.713922</td>\n",
       "      <td>0.000000</td>\n",
       "      <td>0</td>\n",
       "      <td>0.000000</td>\n",
       "      <td>4.0</td>\n",
       "      <td>age_i2</td>\n",
       "    </tr>\n",
       "    <tr>\n",
       "      <th>890</th>\n",
       "      <td>0</td>\n",
       "      <td>3</td>\n",
       "      <td>1</td>\n",
       "      <td>0</td>\n",
       "      <td>0</td>\n",
       "      <td>370376</td>\n",
       "      <td>NaN</td>\n",
       "      <td>Q</td>\n",
       "      <td>8.283955</td>\n",
       "      <td>0.000000</td>\n",
       "      <td>0</td>\n",
       "      <td>0.000000</td>\n",
       "      <td>5.0</td>\n",
       "      <td>age_i0</td>\n",
       "    </tr>\n",
       "  </tbody>\n",
       "</table>\n",
       "<p>891 rows × 14 columns</p>\n",
       "</div>"
      ],
      "text/plain": [
       "     Survived  Pclass  Sex  SibSp  Parch            Ticket Cabin Embarked  \\\n",
       "0           0       3    1      1      0         A/5 21171   C85        S   \n",
       "1           1       1    0      1      0          PC 17599   C85        C   \n",
       "2           1       3    0      0      0  STON/O2. 3101282  C123        S   \n",
       "3           1       1    0      1      0            113803  C123        S   \n",
       "4           0       3    1      0      0            373450   E46        S   \n",
       "..        ...     ...  ...    ...    ...               ...   ...      ...   \n",
       "886         0       2    1      0      0            211536   B42        S   \n",
       "887         1       1    0      0      0            112053   B42        S   \n",
       "888         0       3    0      1      2        W./C. 6607  C148        S   \n",
       "889         1       1    1      0      0            111369  C148        C   \n",
       "890         0       3    1      0      0            370376   NaN        Q   \n",
       "\n",
       "     Fare_std     S_Age  family   m_money age_int fare_int  \n",
       "0    8.283955  0.045455       1  0.142857     3.0   age_i0  \n",
       "1    0.710053  0.026316       1  0.014085     6.0   age_i7  \n",
       "2    8.283955  0.000000       0  0.000000     4.0   age_i0  \n",
       "3    0.955841  0.028571       1  0.018868     5.0   age_i5  \n",
       "4    7.100533  0.000000       0  0.000000     5.0   age_i0  \n",
       "..        ...       ...     ...       ...     ...      ...  \n",
       "886  4.141977  0.000000       0  0.000000     4.0   age_i1  \n",
       "887  1.713922  0.000000       0  0.000000     2.0   age_i2  \n",
       "888  2.259260  0.038462       3  0.130435     4.0   age_i2  \n",
       "889  1.713922  0.000000       0  0.000000     4.0   age_i2  \n",
       "890  8.283955  0.000000       0  0.000000     5.0   age_i0  \n",
       "\n",
       "[891 rows x 14 columns]"
      ]
     },
     "execution_count": 28,
     "metadata": {},
     "output_type": "execute_result"
    }
   ],
   "source": [
    "# Removendo as variavesi 'Age', 'Fare'\n",
    "df_filtrado.drop(['Age','Fare'], axis = 1)"
   ]
  },
  {
   "cell_type": "code",
   "execution_count": 29,
   "id": "9fe71d0d-8957-4261-a9ce-f694cb2e5129",
   "metadata": {},
   "outputs": [
    {
     "data": {
      "image/png": "[encoded data removed]",
      "text/plain": [
       "<Figure size 2500x1500 with 12 Axes>"
      ]
     },
     "metadata": {},
     "output_type": "display_data"
    }
   ],
   "source": [
    "df_filtrado.hist()\n",
    "plt.gcf().set_size_inches(25,15)"
   ]
  },
  {
   "cell_type": "code",
   "execution_count": 30,
   "id": "1d4e2055-7274-4f7b-98b6-9a0859552e28",
   "metadata": {},
   "outputs": [
    {
     "data": {
      "text/html": [
       "<div>\n",
       "<style scoped>\n",
       "    .dataframe tbody tr th:only-of-type {\n",
       "        vertical-align: middle;\n",
       "    }\n",
       "\n",
       "    .dataframe tbody tr th {\n",
       "        vertical-align: top;\n",
       "    }\n",
       "\n",
       "    .dataframe thead th {\n",
       "        text-align: right;\n",
       "    }\n",
       "</style>\n",
       "<table border=\"1\" class=\"dataframe\">\n",
       "  <thead>\n",
       "    <tr style=\"text-align: right;\">\n",
       "      <th></th>\n",
       "      <th>Survived</th>\n",
       "      <th>Pclass</th>\n",
       "      <th>Sex</th>\n",
       "      <th>Age</th>\n",
       "      <th>SibSp</th>\n",
       "      <th>Parch</th>\n",
       "      <th>Ticket</th>\n",
       "      <th>Fare</th>\n",
       "      <th>Cabin</th>\n",
       "      <th>Embarked</th>\n",
       "      <th>Fare_std</th>\n",
       "      <th>S_Age</th>\n",
       "      <th>family</th>\n",
       "      <th>m_money</th>\n",
       "      <th>age_int</th>\n",
       "      <th>fare_int</th>\n",
       "    </tr>\n",
       "  </thead>\n",
       "  <tbody>\n",
       "    <tr>\n",
       "      <th>0</th>\n",
       "      <td>0</td>\n",
       "      <td>3</td>\n",
       "      <td>1</td>\n",
       "      <td>22</td>\n",
       "      <td>1</td>\n",
       "      <td>0</td>\n",
       "      <td>A/5 21171</td>\n",
       "      <td>7</td>\n",
       "      <td>C85</td>\n",
       "      <td>S</td>\n",
       "      <td>8.283955</td>\n",
       "      <td>0.045455</td>\n",
       "      <td>1</td>\n",
       "      <td>0.142857</td>\n",
       "      <td>3.0</td>\n",
       "      <td>age_i0</td>\n",
       "    </tr>\n",
       "    <tr>\n",
       "      <th>1</th>\n",
       "      <td>1</td>\n",
       "      <td>1</td>\n",
       "      <td>0</td>\n",
       "      <td>38</td>\n",
       "      <td>1</td>\n",
       "      <td>0</td>\n",
       "      <td>PC 17599</td>\n",
       "      <td>71</td>\n",
       "      <td>C85</td>\n",
       "      <td>C</td>\n",
       "      <td>0.710053</td>\n",
       "      <td>0.026316</td>\n",
       "      <td>1</td>\n",
       "      <td>0.014085</td>\n",
       "      <td>6.0</td>\n",
       "      <td>age_i7</td>\n",
       "    </tr>\n",
       "    <tr>\n",
       "      <th>2</th>\n",
       "      <td>1</td>\n",
       "      <td>3</td>\n",
       "      <td>0</td>\n",
       "      <td>26</td>\n",
       "      <td>0</td>\n",
       "      <td>0</td>\n",
       "      <td>STON/O2. 3101282</td>\n",
       "      <td>7</td>\n",
       "      <td>C123</td>\n",
       "      <td>S</td>\n",
       "      <td>8.283955</td>\n",
       "      <td>0.000000</td>\n",
       "      <td>0</td>\n",
       "      <td>0.000000</td>\n",
       "      <td>4.0</td>\n",
       "      <td>age_i0</td>\n",
       "    </tr>\n",
       "    <tr>\n",
       "      <th>3</th>\n",
       "      <td>1</td>\n",
       "      <td>1</td>\n",
       "      <td>0</td>\n",
       "      <td>35</td>\n",
       "      <td>1</td>\n",
       "      <td>0</td>\n",
       "      <td>113803</td>\n",
       "      <td>53</td>\n",
       "      <td>C123</td>\n",
       "      <td>S</td>\n",
       "      <td>0.955841</td>\n",
       "      <td>0.028571</td>\n",
       "      <td>1</td>\n",
       "      <td>0.018868</td>\n",
       "      <td>5.0</td>\n",
       "      <td>age_i5</td>\n",
       "    </tr>\n",
       "    <tr>\n",
       "      <th>4</th>\n",
       "      <td>0</td>\n",
       "      <td>3</td>\n",
       "      <td>1</td>\n",
       "      <td>35</td>\n",
       "      <td>0</td>\n",
       "      <td>0</td>\n",
       "      <td>373450</td>\n",
       "      <td>8</td>\n",
       "      <td>E46</td>\n",
       "      <td>S</td>\n",
       "      <td>7.100533</td>\n",
       "      <td>0.000000</td>\n",
       "      <td>0</td>\n",
       "      <td>0.000000</td>\n",
       "      <td>5.0</td>\n",
       "      <td>age_i0</td>\n",
       "    </tr>\n",
       "  </tbody>\n",
       "</table>\n",
       "</div>"
      ],
      "text/plain": [
       "   Survived  Pclass  Sex  Age  SibSp  Parch            Ticket  Fare Cabin  \\\n",
       "0         0       3    1   22      1      0         A/5 21171     7   C85   \n",
       "1         1       1    0   38      1      0          PC 17599    71   C85   \n",
       "2         1       3    0   26      0      0  STON/O2. 3101282     7  C123   \n",
       "3         1       1    0   35      1      0            113803    53  C123   \n",
       "4         0       3    1   35      0      0            373450     8   E46   \n",
       "\n",
       "  Embarked  Fare_std     S_Age  family   m_money age_int fare_int  \n",
       "0        S  8.283955  0.045455       1  0.142857     3.0   age_i0  \n",
       "1        C  0.710053  0.026316       1  0.014085     6.0   age_i7  \n",
       "2        S  8.283955  0.000000       0  0.000000     4.0   age_i0  \n",
       "3        S  0.955841  0.028571       1  0.018868     5.0   age_i5  \n",
       "4        S  7.100533  0.000000       0  0.000000     5.0   age_i0  "
      ]
     },
     "execution_count": 30,
     "metadata": {},
     "output_type": "execute_result"
    }
   ],
   "source": [
    "df_filtrado.head()"
   ]
  },
  {
   "cell_type": "code",
   "execution_count": 31,
   "id": "9a3ca320-f093-402c-be69-9f15c3c65675",
   "metadata": {},
   "outputs": [
    {
     "name": "stdout",
     "output_type": "stream",
     "text": [
      "<class 'pandas.core.frame.DataFrame'>\n",
      "RangeIndex: 891 entries, 0 to 890\n",
      "Data columns (total 16 columns):\n",
      " #   Column    Non-Null Count  Dtype  \n",
      "---  ------    --------------  -----  \n",
      " 0   Survived  891 non-null    int64  \n",
      " 1   Pclass    891 non-null    int64  \n",
      " 2   Sex       891 non-null    int64  \n",
      " 3   Age       891 non-null    int64  \n",
      " 4   SibSp     891 non-null    int64  \n",
      " 5   Parch     891 non-null    int64  \n",
      " 6   Ticket    891 non-null    object \n",
      " 7   Fare      891 non-null    int64  \n",
      " 8   Cabin     890 non-null    object \n",
      " 9   Embarked  891 non-null    object \n",
      " 10  Fare_std  891 non-null    float64\n",
      " 11  S_Age     878 non-null    float64\n",
      " 12  family    891 non-null    int64  \n",
      " 13  m_money   876 non-null    float64\n",
      " 14  age_int   837 non-null    object \n",
      " 15  fare_int  891 non-null    object \n",
      "dtypes: float64(3), int64(8), object(5)\n",
      "memory usage: 111.5+ KB\n"
     ]
    }
   ],
   "source": [
    "df_filtrado.info()"
   ]
  },
  {
   "cell_type": "markdown",
   "id": "9b811982-7ad3-49bc-a507-8e7c468bb9f9",
   "metadata": {},
   "source": [
    "## Convertendo valores categoricos em numeros"
   ]
  },
  {
   "cell_type": "code",
   "execution_count": 32,
   "id": "5ea6edde-6097-40f5-b5cd-3b1657c9e9eb",
   "metadata": {},
   "outputs": [],
   "source": [
    "# Usando o LabelEncoder !!!!!!!!!!!!!!! muito importante \n",
    "\n",
    "encoder = LabelEncoder()\n",
    "\n",
    "# percorrendo e transformando toda a base de dados\n",
    "\n",
    "for variaveis in df_filtrado.columns:\n",
    "    if df_filtrado[variaveis].dtype == 'object':\n",
    "        df_filtrado[variaveis] = encoder.fit_transform(df_filtrado[variaveis])"
   ]
  },
  {
   "cell_type": "code",
   "execution_count": 33,
   "id": "3c55fc0f-d51b-4925-b426-59d12c9bc96a",
   "metadata": {},
   "outputs": [
    {
     "data": {
      "text/html": [
       "<div>\n",
       "<style scoped>\n",
       "    .dataframe tbody tr th:only-of-type {\n",
       "        vertical-align: middle;\n",
       "    }\n",
       "\n",
       "    .dataframe tbody tr th {\n",
       "        vertical-align: top;\n",
       "    }\n",
       "\n",
       "    .dataframe thead th {\n",
       "        text-align: right;\n",
       "    }\n",
       "</style>\n",
       "<table border=\"1\" class=\"dataframe\">\n",
       "  <thead>\n",
       "    <tr style=\"text-align: right;\">\n",
       "      <th></th>\n",
       "      <th>Survived</th>\n",
       "      <th>Pclass</th>\n",
       "      <th>Sex</th>\n",
       "      <th>Age</th>\n",
       "      <th>SibSp</th>\n",
       "      <th>Parch</th>\n",
       "      <th>Ticket</th>\n",
       "      <th>Fare</th>\n",
       "      <th>Cabin</th>\n",
       "      <th>Embarked</th>\n",
       "      <th>Fare_std</th>\n",
       "      <th>S_Age</th>\n",
       "      <th>family</th>\n",
       "      <th>m_money</th>\n",
       "      <th>age_int</th>\n",
       "      <th>fare_int</th>\n",
       "    </tr>\n",
       "  </thead>\n",
       "  <tbody>\n",
       "    <tr>\n",
       "      <th>0</th>\n",
       "      <td>0</td>\n",
       "      <td>3</td>\n",
       "      <td>1</td>\n",
       "      <td>22</td>\n",
       "      <td>1</td>\n",
       "      <td>0</td>\n",
       "      <td>523</td>\n",
       "      <td>7</td>\n",
       "      <td>81</td>\n",
       "      <td>2</td>\n",
       "      <td>8.283955</td>\n",
       "      <td>0.045455</td>\n",
       "      <td>1</td>\n",
       "      <td>0.142857</td>\n",
       "      <td>3</td>\n",
       "      <td>0</td>\n",
       "    </tr>\n",
       "    <tr>\n",
       "      <th>1</th>\n",
       "      <td>1</td>\n",
       "      <td>1</td>\n",
       "      <td>0</td>\n",
       "      <td>38</td>\n",
       "      <td>1</td>\n",
       "      <td>0</td>\n",
       "      <td>596</td>\n",
       "      <td>71</td>\n",
       "      <td>81</td>\n",
       "      <td>0</td>\n",
       "      <td>0.710053</td>\n",
       "      <td>0.026316</td>\n",
       "      <td>1</td>\n",
       "      <td>0.014085</td>\n",
       "      <td>6</td>\n",
       "      <td>18</td>\n",
       "    </tr>\n",
       "    <tr>\n",
       "      <th>2</th>\n",
       "      <td>1</td>\n",
       "      <td>3</td>\n",
       "      <td>0</td>\n",
       "      <td>26</td>\n",
       "      <td>0</td>\n",
       "      <td>0</td>\n",
       "      <td>669</td>\n",
       "      <td>7</td>\n",
       "      <td>55</td>\n",
       "      <td>2</td>\n",
       "      <td>8.283955</td>\n",
       "      <td>0.000000</td>\n",
       "      <td>0</td>\n",
       "      <td>0.000000</td>\n",
       "      <td>4</td>\n",
       "      <td>0</td>\n",
       "    </tr>\n",
       "    <tr>\n",
       "      <th>3</th>\n",
       "      <td>1</td>\n",
       "      <td>1</td>\n",
       "      <td>0</td>\n",
       "      <td>35</td>\n",
       "      <td>1</td>\n",
       "      <td>0</td>\n",
       "      <td>49</td>\n",
       "      <td>53</td>\n",
       "      <td>55</td>\n",
       "      <td>2</td>\n",
       "      <td>0.955841</td>\n",
       "      <td>0.028571</td>\n",
       "      <td>1</td>\n",
       "      <td>0.018868</td>\n",
       "      <td>5</td>\n",
       "      <td>15</td>\n",
       "    </tr>\n",
       "    <tr>\n",
       "      <th>4</th>\n",
       "      <td>0</td>\n",
       "      <td>3</td>\n",
       "      <td>1</td>\n",
       "      <td>35</td>\n",
       "      <td>0</td>\n",
       "      <td>0</td>\n",
       "      <td>472</td>\n",
       "      <td>8</td>\n",
       "      <td>129</td>\n",
       "      <td>2</td>\n",
       "      <td>7.100533</td>\n",
       "      <td>0.000000</td>\n",
       "      <td>0</td>\n",
       "      <td>0.000000</td>\n",
       "      <td>5</td>\n",
       "      <td>0</td>\n",
       "    </tr>\n",
       "  </tbody>\n",
       "</table>\n",
       "</div>"
      ],
      "text/plain": [
       "   Survived  Pclass  Sex  Age  SibSp  Parch  Ticket  Fare  Cabin  Embarked  \\\n",
       "0         0       3    1   22      1      0     523     7     81         2   \n",
       "1         1       1    0   38      1      0     596    71     81         0   \n",
       "2         1       3    0   26      0      0     669     7     55         2   \n",
       "3         1       1    0   35      1      0      49    53     55         2   \n",
       "4         0       3    1   35      0      0     472     8    129         2   \n",
       "\n",
       "   Fare_std     S_Age  family   m_money  age_int  fare_int  \n",
       "0  8.283955  0.045455       1  0.142857        3         0  \n",
       "1  0.710053  0.026316       1  0.014085        6        18  \n",
       "2  8.283955  0.000000       0  0.000000        4         0  \n",
       "3  0.955841  0.028571       1  0.018868        5        15  \n",
       "4  7.100533  0.000000       0  0.000000        5         0  "
      ]
     },
     "execution_count": 33,
     "metadata": {},
     "output_type": "execute_result"
    }
   ],
   "source": [
    "df_filtrado.head()"
   ]
  },
  {
   "cell_type": "code",
   "execution_count": 34,
   "id": "17016957-02d2-45da-85dd-10c3cfdbe274",
   "metadata": {},
   "outputs": [
    {
     "name": "stdout",
     "output_type": "stream",
     "text": [
      "Survived     0\n",
      "Pclass       0\n",
      "Sex          0\n",
      "Age          0\n",
      "SibSp        0\n",
      "Parch        0\n",
      "Ticket       0\n",
      "Fare         0\n",
      "Cabin        0\n",
      "Embarked     0\n",
      "Fare_std     0\n",
      "S_Age       13\n",
      "family       0\n",
      "m_money     15\n",
      "age_int      0\n",
      "fare_int     0\n",
      "dtype: int64\n"
     ]
    }
   ],
   "source": [
    "\n",
    "# Verificando os valores faltantes\n",
    "print(df_filtrado.isna().sum())"
   ]
  },
  {
   "cell_type": "code",
   "execution_count": 35,
   "id": "d6615d6e-56f5-4367-8b10-4cc5ec07f08f",
   "metadata": {},
   "outputs": [
    {
     "name": "stdout",
     "output_type": "stream",
     "text": [
      "False\n"
     ]
    }
   ],
   "source": [
    "# limpando possiveis missings values\n",
    "df_filtrado.dropna(axis=0, inplace = True)\n",
    "\n",
    "# Verificando os valores faltantes\n",
    "print(df_filtrado.isna().values.any())"
   ]
  },
  {
   "cell_type": "markdown",
   "id": "dbfecb5d-8457-4cc9-9114-ce32af8cafb0",
   "metadata": {},
   "source": [
    "## Random Florest"
   ]
  },
  {
   "cell_type": "code",
   "execution_count": 37,
   "id": "41d376d1-8834-4de5-bb65-06b42525ef7a",
   "metadata": {},
   "outputs": [],
   "source": [
    "# sempando o dataset para treinamento e teste\n",
    "\n",
    "x_rf = df_filtrado.drop('Survived', axis = 1)\n",
    "y_rf = df_filtrado['Survived']\n",
    "\n",
    "# para insto precisamo da função train_test_split do sklearn\n",
    "x_train_rf, x_test_rf, y_train_rf, y_test_rf = train_test_split(x_rf, y_rf, test_size = 0.5)"
   ]
  },
  {
   "cell_type": "code",
   "execution_count": 38,
   "id": "93ffb190-fbe6-474e-a6ae-010a4d36de85",
   "metadata": {},
   "outputs": [
    {
     "data": {
      "text/html": [
       "<style>#sk-container-id-1 {color: black;background-color: white;}#sk-container-id-1 pre{padding: 0;}#sk-container-id-1 div.sk-toggleable {background-color: white;}#sk-container-id-1 label.sk-toggleable__label {cursor: pointer;display: block;width: 100%;margin-bottom: 0;padding: 0.3em;box-sizing: border-box;text-align: center;}#sk-container-id-1 label.sk-toggleable__label-arrow:before {content: \"▸\";float: left;margin-right: 0.25em;color: #696969;}#sk-container-id-1 label.sk-toggleable__label-arrow:hover:before {color: black;}#sk-container-id-1 div.sk-estimator:hover label.sk-toggleable__label-arrow:before {color: black;}#sk-container-id-1 div.sk-toggleable__content {max-height: 0;max-width: 0;overflow: hidden;text-align: left;background-color: #f0f8ff;}#sk-container-id-1 div.sk-toggleable__content pre {margin: 0.2em;color: black;border-radius: 0.25em;background-color: #f0f8ff;}#sk-container-id-1 input.sk-toggleable__control:checked~div.sk-toggleable__content {max-height: 200px;max-width: 100%;overflow: auto;}#sk-container-id-1 input.sk-toggleable__control:checked~label.sk-toggleable__label-arrow:before {content: \"▾\";}#sk-container-id-1 div.sk-estimator input.sk-toggleable__control:checked~label.sk-toggleable__label {background-color: #d4ebff;}#sk-container-id-1 div.sk-label input.sk-toggleable__control:checked~label.sk-toggleable__label {background-color: #d4ebff;}#sk-container-id-1 input.sk-hidden--visually {border: 0;clip: rect(1px 1px 1px 1px);clip: rect(1px, 1px, 1px, 1px);height: 1px;margin: -1px;overflow: hidden;padding: 0;position: absolute;width: 1px;}#sk-container-id-1 div.sk-estimator {font-family: monospace;background-color: #f0f8ff;border: 1px dotted black;border-radius: 0.25em;box-sizing: border-box;margin-bottom: 0.5em;}#sk-container-id-1 div.sk-estimator:hover {background-color: #d4ebff;}#sk-container-id-1 div.sk-parallel-item::after {content: \"\";width: 100%;border-bottom: 1px solid gray;flex-grow: 1;}#sk-container-id-1 div.sk-label:hover label.sk-toggleable__label {background-color: #d4ebff;}#sk-container-id-1 div.sk-serial::before {content: \"\";position: absolute;border-left: 1px solid gray;box-sizing: border-box;top: 0;bottom: 0;left: 50%;z-index: 0;}#sk-container-id-1 div.sk-serial {display: flex;flex-direction: column;align-items: center;background-color: white;padding-right: 0.2em;padding-left: 0.2em;position: relative;}#sk-container-id-1 div.sk-item {position: relative;z-index: 1;}#sk-container-id-1 div.sk-parallel {display: flex;align-items: stretch;justify-content: center;background-color: white;position: relative;}#sk-container-id-1 div.sk-item::before, #sk-container-id-1 div.sk-parallel-item::before {content: \"\";position: absolute;border-left: 1px solid gray;box-sizing: border-box;top: 0;bottom: 0;left: 50%;z-index: -1;}#sk-container-id-1 div.sk-parallel-item {display: flex;flex-direction: column;z-index: 1;position: relative;background-color: white;}#sk-container-id-1 div.sk-parallel-item:first-child::after {align-self: flex-end;width: 50%;}#sk-container-id-1 div.sk-parallel-item:last-child::after {align-self: flex-start;width: 50%;}#sk-container-id-1 div.sk-parallel-item:only-child::after {width: 0;}#sk-container-id-1 div.sk-dashed-wrapped {border: 1px dashed gray;margin: 0 0.4em 0.5em 0.4em;box-sizing: border-box;padding-bottom: 0.4em;background-color: white;}#sk-container-id-1 div.sk-label label {font-family: monospace;font-weight: bold;display: inline-block;line-height: 1.2em;}#sk-container-id-1 div.sk-label-container {text-align: center;}#sk-container-id-1 div.sk-container {/* jupyter's `normalize.less` sets `[hidden] { display: none; }` but bootstrap.min.css set `[hidden] { display: none !important; }` so we also need the `!important` here to be able to override the default hidden behavior on the sphinx rendered scikit-learn.org. See: https://github.com/scikit-learn/scikit-learn/issues/21755 */display: inline-block !important;position: relative;}#sk-container-id-1 div.sk-text-repr-fallback {display: none;}</style><div id=\"sk-container-id-1\" class=\"sk-top-container\"><div class=\"sk-text-repr-fallback\"><pre>RandomForestClassifier(max_depth=15, max_features=&#x27;auto&#x27;, min_samples_split=5,\n",
       "                       n_estimators=1500, n_jobs=5, oob_score=True)</pre><b>In a Jupyter environment, please rerun this cell to show the HTML representation or trust the notebook. <br />On GitHub, the HTML representation is unable to render, please try loading this page with nbviewer.org.</b></div><div class=\"sk-container\" hidden><div class=\"sk-item\"><div class=\"sk-estimator sk-toggleable\"><input class=\"sk-toggleable__control sk-hidden--visually\" id=\"sk-estimator-id-1\" type=\"checkbox\" checked><label for=\"sk-estimator-id-1\" class=\"sk-toggleable__label sk-toggleable__label-arrow\">RandomForestClassifier</label><div class=\"sk-toggleable__content\"><pre>RandomForestClassifier(max_depth=15, max_features=&#x27;auto&#x27;, min_samples_split=5,\n",
       "                       n_estimators=1500, n_jobs=5, oob_score=True)</pre></div></div></div></div></div>"
      ],
      "text/plain": [
       "RandomForestClassifier(max_depth=15, max_features='auto', min_samples_split=5,\n",
       "                       n_estimators=1500, n_jobs=5, oob_score=True)"
      ]
     },
     "execution_count": 38,
     "metadata": {},
     "output_type": "execute_result"
    }
   ],
   "source": [
    "df_rf = RandomForestClassifier(bootstrap = True, criterion='gini'\n",
    "                              , max_depth= 15, max_features= 'auto'\n",
    "                              , min_samples_leaf=1, min_samples_split= 5\n",
    "                              , n_estimators= 1500, n_jobs= 5, oob_score= True)\n",
    "df_rf.fit(x_train_rf, y_train_rf)"
   ]
  },
  {
   "cell_type": "code",
   "execution_count": 39,
   "id": "b4165a4b-7506-4109-9636-fe11fcb2781e",
   "metadata": {},
   "outputs": [],
   "source": [
    "# fazendo a predição da base de treinamento e teste\n",
    "\n",
    "y_pred_train_rf = df_rf.predict(x_train_rf)\n",
    "y_pred_test_rf = df_rf.predict(x_test_rf)"
   ]
  },
  {
   "cell_type": "code",
   "execution_count": 40,
   "id": "cd91fefb-aae9-47d1-b731-ad3cbb427d58",
   "metadata": {},
   "outputs": [
    {
     "name": "stdout",
     "output_type": "stream",
     "text": [
      "AUC -  Treinamento : 0.963460\n",
      "Gini -  Treinamento :  0.93\n",
      "\n",
      "AUC -  Test : 0.780397\n",
      "Gini -  Test :  0.56\n",
      "\n"
     ]
    }
   ],
   "source": [
    "# Calculando a ROC e o Gini - Treinamento\n",
    "fpr_train_rf, tpr_train_rf, thresholds_train_rf = roc_curve(y_train_rf, y_pred_train_rf)\n",
    "roc_auc_train_rf = auc(fpr_train_rf, tpr_train_rf)\n",
    "\n",
    "print('AUC -  Treinamento : %f' % roc_auc_train_rf)\n",
    "print('Gini -  Treinamento : ', round(2*roc_auc_train_rf-1,2))\n",
    "print()\n",
    "\n",
    "# Calculando a ROC e o Gini - Teste\n",
    "fpr_test_rf, tpr_test_rf, thresholds_test_rf = roc_curve(y_test_rf, y_pred_test_rf)\n",
    "roc_auc_test_rf = auc(fpr_test_rf, tpr_test_rf)\n",
    "\n",
    "print('AUC -  Test : %f' % roc_auc_test_rf)\n",
    "print('Gini -  Test : ', round(2*roc_auc_test_rf-1,2))\n",
    "print()"
   ]
  },
  {
   "cell_type": "code",
   "execution_count": 41,
   "id": "61aca9ec-9329-4d3b-8db9-0ac959bf70a4",
   "metadata": {},
   "outputs": [
    {
     "data": {
      "text/html": [
       "<div>\n",
       "<style scoped>\n",
       "    .dataframe tbody tr th:only-of-type {\n",
       "        vertical-align: middle;\n",
       "    }\n",
       "\n",
       "    .dataframe tbody tr th {\n",
       "        vertical-align: top;\n",
       "    }\n",
       "\n",
       "    .dataframe thead th {\n",
       "        text-align: right;\n",
       "    }\n",
       "</style>\n",
       "<table border=\"1\" class=\"dataframe\">\n",
       "  <thead>\n",
       "    <tr style=\"text-align: right;\">\n",
       "      <th></th>\n",
       "      <th>Variaveis</th>\n",
       "      <th>Importancia</th>\n",
       "      <th>cumsum</th>\n",
       "    </tr>\n",
       "  </thead>\n",
       "  <tbody>\n",
       "    <tr>\n",
       "      <th>1</th>\n",
       "      <td>Sex</td>\n",
       "      <td>0.220116</td>\n",
       "      <td>0.220116</td>\n",
       "    </tr>\n",
       "    <tr>\n",
       "      <th>5</th>\n",
       "      <td>Ticket</td>\n",
       "      <td>0.159501</td>\n",
       "      <td>0.379617</td>\n",
       "    </tr>\n",
       "    <tr>\n",
       "      <th>7</th>\n",
       "      <td>Cabin</td>\n",
       "      <td>0.086877</td>\n",
       "      <td>0.466494</td>\n",
       "    </tr>\n",
       "    <tr>\n",
       "      <th>2</th>\n",
       "      <td>Age</td>\n",
       "      <td>0.084836</td>\n",
       "      <td>0.551330</td>\n",
       "    </tr>\n",
       "    <tr>\n",
       "      <th>9</th>\n",
       "      <td>Fare_std</td>\n",
       "      <td>0.076886</td>\n",
       "      <td>0.628216</td>\n",
       "    </tr>\n",
       "    <tr>\n",
       "      <th>6</th>\n",
       "      <td>Fare</td>\n",
       "      <td>0.076435</td>\n",
       "      <td>0.704651</td>\n",
       "    </tr>\n",
       "    <tr>\n",
       "      <th>13</th>\n",
       "      <td>age_int</td>\n",
       "      <td>0.055342</td>\n",
       "      <td>0.759993</td>\n",
       "    </tr>\n",
       "    <tr>\n",
       "      <th>12</th>\n",
       "      <td>m_money</td>\n",
       "      <td>0.045783</td>\n",
       "      <td>0.805775</td>\n",
       "    </tr>\n",
       "    <tr>\n",
       "      <th>0</th>\n",
       "      <td>Pclass</td>\n",
       "      <td>0.043252</td>\n",
       "      <td>0.849028</td>\n",
       "    </tr>\n",
       "    <tr>\n",
       "      <th>14</th>\n",
       "      <td>fare_int</td>\n",
       "      <td>0.035517</td>\n",
       "      <td>0.884544</td>\n",
       "    </tr>\n",
       "    <tr>\n",
       "      <th>10</th>\n",
       "      <td>S_Age</td>\n",
       "      <td>0.032020</td>\n",
       "      <td>0.916564</td>\n",
       "    </tr>\n",
       "    <tr>\n",
       "      <th>11</th>\n",
       "      <td>family</td>\n",
       "      <td>0.026638</td>\n",
       "      <td>0.943202</td>\n",
       "    </tr>\n",
       "    <tr>\n",
       "      <th>8</th>\n",
       "      <td>Embarked</td>\n",
       "      <td>0.026585</td>\n",
       "      <td>0.969787</td>\n",
       "    </tr>\n",
       "    <tr>\n",
       "      <th>3</th>\n",
       "      <td>SibSp</td>\n",
       "      <td>0.015422</td>\n",
       "      <td>0.985208</td>\n",
       "    </tr>\n",
       "    <tr>\n",
       "      <th>4</th>\n",
       "      <td>Parch</td>\n",
       "      <td>0.014792</td>\n",
       "      <td>1.000000</td>\n",
       "    </tr>\n",
       "  </tbody>\n",
       "</table>\n",
       "</div>"
      ],
      "text/plain": [
       "   Variaveis  Importancia    cumsum\n",
       "1        Sex     0.220116  0.220116\n",
       "5     Ticket     0.159501  0.379617\n",
       "7      Cabin     0.086877  0.466494\n",
       "2        Age     0.084836  0.551330\n",
       "9   Fare_std     0.076886  0.628216\n",
       "6       Fare     0.076435  0.704651\n",
       "13   age_int     0.055342  0.759993\n",
       "12   m_money     0.045783  0.805775\n",
       "0     Pclass     0.043252  0.849028\n",
       "14  fare_int     0.035517  0.884544\n",
       "10     S_Age     0.032020  0.916564\n",
       "11    family     0.026638  0.943202\n",
       "8   Embarked     0.026585  0.969787\n",
       "3      SibSp     0.015422  0.985208\n",
       "4      Parch     0.014792  1.000000"
      ]
     },
     "execution_count": 41,
     "metadata": {},
     "output_type": "execute_result"
    }
   ],
   "source": [
    "# Analisando a importancia das variaveis\n",
    "\n",
    "imp_rf = pd.DataFrame({'Variaveis': x_train_rf.columns, 'Importancia': df_rf.feature_importances_})# feature_importances_ - mostra as variaveis importantes\n",
    "imp_rf = imp_rf.sort_values(by=['Importancia'],ascending= False)\n",
    "\n",
    "#soma acumulativa da 'Importancia'\n",
    "imp_rf['cumsum'] = imp_rf['Importancia'].cumsum()\n",
    "\n",
    "imp_rf"
   ]
  },
  {
   "cell_type": "code",
   "execution_count": 42,
   "id": "d481799e-6fba-4561-b50a-4a220edc2699",
   "metadata": {},
   "outputs": [
    {
     "data": {
      "image/png": "[encoded data removed]",
      "text/plain": [
       "<Figure size 2000x500 with 1 Axes>"
      ]
     },
     "metadata": {},
     "output_type": "display_data"
    }
   ],
   "source": [
    "plt.figure(figsize=(20,5))\n",
    "plt.xticks(range(len(imp_rf)), imp_rf['Variaveis'])\n",
    "plt.xlabel('Variaveis')\n",
    "plt.ylabel('Importancia')\n",
    "plt.title('Importancia das Variaveis ')\n",
    "plt.bar(range(len(imp_rf)), imp_rf['Importancia']);"
   ]
  },
  {
   "cell_type": "code",
   "execution_count": 43,
   "id": "98e718db-3445-43b4-bb44-db5ae79a4bbe",
   "metadata": {},
   "outputs": [
    {
     "data": {
      "text/plain": [
       "array(['Sex', 'Ticket', 'Cabin', 'Age', 'Fare_std', 'Fare', 'age_int',\n",
       "       'm_money', 'Pclass', 'fare_int', 'S_Age', 'family', 'Embarked',\n",
       "       'SibSp', 'Parch'], dtype=object)"
      ]
     },
     "execution_count": 43,
     "metadata": {},
     "output_type": "execute_result"
    }
   ],
   "source": [
    "imp_rf['Variaveis'].values"
   ]
  },
  {
   "cell_type": "code",
   "execution_count": 44,
   "id": "89ed8063-af73-4b78-bd2a-7d550d719bcf",
   "metadata": {},
   "outputs": [],
   "source": [
    "# variaveis que serão usadas no modelo - entorno de 75% da importancia\n",
    "\n",
    "df2 = df_filtrado[['Sex', 'Ticket', 'Cabin', 'Fare', 'Fare_std', 'Age', 'Pclass',\n",
    "       'age_int',  'Survived']]"
   ]
  },
  {
   "cell_type": "markdown",
   "id": "99adae65-d141-4995-8fdf-aa8110703c68",
   "metadata": {},
   "source": [
    "# Regressão Logistica"
   ]
  },
  {
   "cell_type": "code",
   "execution_count": 45,
   "id": "b62fc7ec-6b81-4d22-8bff-16588990f19f",
   "metadata": {},
   "outputs": [],
   "source": [
    "# separando os dados com as variavesi em x e o alvo y \n",
    "\n",
    "x = df2.drop('Survived', axis = 1)\n",
    "y = df2['Survived']\n",
    "\n",
    "# separando entre treinamento e teste \n",
    "\n",
    "x_train, x_test, y_train, y_test = train_test_split(x, y, test_size = 0.5)"
   ]
  },
  {
   "cell_type": "code",
   "execution_count": 46,
   "id": "e5fa2c95-712b-4dbe-ab3a-6c9a93992b89",
   "metadata": {},
   "outputs": [
    {
     "name": "stdout",
     "output_type": "stream",
     "text": [
      "                 Generalized Linear Model Regression Results                  \n",
      "==============================================================================\n",
      "Dep. Variable:               Survived   No. Observations:                  431\n",
      "Model:                            GLM   Df Residuals:                      422\n",
      "Model Family:                Binomial   Df Model:                            8\n",
      "Link Function:                  Logit   Scale:                          1.0000\n",
      "Method:                          IRLS   Log-Likelihood:                -191.88\n",
      "Date:                Tue, 27 Jun 2023   Deviance:                       383.77\n",
      "Time:                        17:24:03   Pearson chi2:                     456.\n",
      "No. Iterations:                     5   Pseudo R-squ. (CS):             0.3630\n",
      "Covariance Type:            nonrobust                                         \n",
      "==============================================================================\n",
      "                 coef    std err          z      P>|z|      [0.025      0.975]\n",
      "------------------------------------------------------------------------------\n",
      "const          4.9574      0.786      6.305      0.000       3.416       6.499\n",
      "Sex           -2.7306      0.286     -9.548      0.000      -3.291      -2.170\n",
      "Ticket        -0.0013      0.001     -1.909      0.056      -0.003    3.46e-05\n",
      "Cabin         -0.0003      0.003     -0.103      0.918      -0.006       0.006\n",
      "Fare           0.0024      0.003      0.772      0.440      -0.004       0.008\n",
      "Fare_std       0.1633      0.068      2.389      0.017       0.029       0.297\n",
      "Age           -0.0375      0.011     -3.554      0.000      -0.058      -0.017\n",
      "Pclass        -1.4046      0.263     -5.334      0.000      -1.921      -0.888\n",
      "age_int        0.0589      0.043      1.380      0.167      -0.025       0.143\n",
      "==============================================================================\n",
      "\n",
      "Parameters:  const       4.957425\n",
      "Sex        -2.730636\n",
      "Ticket     -0.001293\n",
      "Cabin      -0.000317\n",
      "Fare        0.002369\n",
      "Fare_std    0.163299\n",
      "Age        -0.037511\n",
      "Pclass     -1.404596\n",
      "age_int     0.058905\n",
      "dtype: float64\n",
      "\n",
      "Odds ratio\n",
      "const       142.227033\n",
      "Sex           0.065178\n",
      "Ticket        0.998708\n",
      "Cabin         0.999684\n",
      "Fare          1.002371\n",
      "Fare_std      1.177388\n",
      "Age           0.963183\n",
      "Pclass        0.245466\n",
      "age_int       1.060675\n",
      "dtype: float64\n"
     ]
    }
   ],
   "source": [
    "# Inicializa a intancia e treina o modelo \n",
    "\n",
    "x_train_ = sm.add_constant(x_train)\n",
    "x_test_ = sm.add_constant(x_test)\n",
    "\n",
    "\n",
    "reg_log = sm.GLM(y_train, x_train_, family = sm.families.Binomial())\n",
    "\n",
    "reg_log = reg_log.fit()\n",
    "\n",
    "print(reg_log.summary())\n",
    "print()\n",
    "print('Parameters: ', reg_log.params)\n",
    "print()\n",
    "print('Odds ratio')\n",
    "print(np.exp(reg_log.params)) # valores para aplicar na formula da Regressão Logística"
   ]
  },
  {
   "cell_type": "markdown",
   "id": "fe80b22c-3075-4828-b2fd-08388284f2b0",
   "metadata": {},
   "source": [
    "## Avaliação do Modelo"
   ]
  },
  {
   "cell_type": "code",
   "execution_count": 47,
   "id": "c9e101a7-14e7-4581-a731-d9bf2f3a52c3",
   "metadata": {},
   "outputs": [
    {
     "name": "stdout",
     "output_type": "stream",
     "text": [
      "AUC -  Treinamento : 0.853212\n",
      "Gini -  Treinamento :  0.71\n",
      "\n",
      "AUC -  Test : 0.850183\n",
      "Gini -  Test :  0.7\n",
      "\n"
     ]
    }
   ],
   "source": [
    "# fazendo a predisão  na base de treinamento e na de teste\n",
    "\n",
    "y_pred_train = reg_log.predict(x_train_)\n",
    "\n",
    "y_pred_test = reg_log.predict(x_test_)\n",
    "\n",
    "# Calculando a ROC e o Gini - Treinamento\n",
    "fpr_train, tpr_train, thresholds_train = roc_curve(y_train, y_pred_train)\n",
    "roc_auc_train = auc(fpr_train, tpr_train)\n",
    "\n",
    "print('AUC -  Treinamento : %f' % roc_auc_train)\n",
    "print('Gini -  Treinamento : ', round(2*roc_auc_train-1,2))\n",
    "print()\n",
    "\n",
    "\n",
    "# Calculando a ROC e o Gini - Teste\n",
    "fpr_test, tpr_test, thresholds_test = roc_curve(y_test, y_pred_test)\n",
    "roc_auc_test = auc(fpr_test, tpr_test)\n",
    "\n",
    "print('AUC -  Test : %f' % roc_auc_test)\n",
    "print('Gini -  Test : ', round(2*roc_auc_test-1,2))\n",
    "print()"
   ]
  },
  {
   "cell_type": "code",
   "execution_count": null,
   "id": "18a7f1cb-d768-4be2-afe8-ccb51463f4b4",
   "metadata": {},
   "outputs": [],
   "source": []
  }
 ],
 "metadata": {
  "kernelspec": {
   "display_name": "Python 3 (ipykernel)",
   "language": "python",
   "name": "python3"
  },
  "language_info": {
   "codemirror_mode": {
    "name": "ipython",
    "version": 3
   },
   "file_extension": ".py",
   "mimetype": "text/x-python",
   "name": "python",
   "nbconvert_exporter": "python",
   "pygments_lexer": "ipython3",
   "version": "3.8.10"
  }
 },
 "nbformat": 4,
 "nbformat_minor": 5
}
